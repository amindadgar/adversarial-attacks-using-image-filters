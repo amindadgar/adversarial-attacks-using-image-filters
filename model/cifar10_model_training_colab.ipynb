{
 "cells": [
  {
   "cell_type": "code",
   "execution_count": 1,
   "metadata": {
    "id": "scjVz1Mo6cGp"
   },
   "outputs": [],
   "source": [
    "import tensorflow.keras as keras\n",
    "import tensorflow as tf"
   ]
  },
  {
   "cell_type": "code",
   "execution_count": 2,
   "metadata": {
    "id": "dK4PepP16mbE"
   },
   "outputs": [],
   "source": [
    "def preprocess_data(X, Y):\n",
    "    \"\"\"\n",
    "    Pre-processes the data for the model\n",
    "\n",
    "        :param X: numpy.ndarray of shape (m, 32, 32, 3)\n",
    "            containing the CIFAR 10 data, where m is the\n",
    "            number of data points\n",
    "\n",
    "        :param Y: numpy.ndarray of shape (m,) containing\n",
    "            the CIFAR 10 labels for X\n",
    "\n",
    "        :returns: X_p, Y_p\n",
    "    \"\"\"\n",
    "    X_p = keras.applications.densenet.preprocess_input(X)\n",
    "\n",
    "    # encode to one-hot\n",
    "    Y_p = keras.utils.to_categorical(Y, 10)\n",
    "    return X_p, Y_p\n"
   ]
  },
  {
   "cell_type": "code",
   "execution_count": 3,
   "metadata": {
    "id": "P6glKdErCG1G"
   },
   "outputs": [],
   "source": [
    "# load cifar 10\n",
    "(x_train, y_train), (x_test, y_test) = keras.datasets.cifar10.load_data()\n",
    "\n",
    "# pre-procces data\n",
    "x_train, y_train = preprocess_data(x_train, y_train)\n",
    "x_test, y_test = preprocess_data(x_test, y_test)"
   ]
  },
  {
   "cell_type": "code",
   "execution_count": 4,
   "metadata": {
    "id": "m5TkMwmL6yrQ"
   },
   "outputs": [],
   "source": [
    "MODEL_PATH = 'cifar10.h5'\n",
    "optimizer = keras.optimizers.Adam()\n",
    "\n",
    "CALLBACKS = [\n",
    "    keras.callbacks.ModelCheckpoint(\n",
    "        MODEL_PATH, \n",
    "        monitor='val_loss', \n",
    "        save_best_only=True),\n",
    "    keras.callbacks.EarlyStopping(\n",
    "        monitor='val_loss', \n",
    "        patience=5, \n",
    "        restore_best_weights=True, \n",
    "        verbose=1)\n",
    "    ]\n",
    "\n",
    "\n",
    "# input tensor\n",
    "inputs = keras.Input(shape=(32, 32, 3))\n",
    "\n",
    "# upscale layer for denseNet network\n",
    "upscale = keras.layers.Lambda(lambda x: tf.image.resize_with_pad(x,\n",
    "                                                                  160,\n",
    "                                                                  160,\n",
    "                                                                  method=tf.image.ResizeMethod.BILINEAR))(inputs)\n",
    "\n",
    "# load base model\n",
    "base_model = keras.applications.DenseNet121(include_top=False,\n",
    "                                        weights='imagenet',\n",
    "                                        input_tensor=upscale,\n",
    "                                        input_shape=(160,160,3),\n",
    "                                        pooling='max')\n",
    "\n",
    "## make the batch normalization training false\n",
    "## not to update its mean and variance\n",
    "base_model.training = False\n",
    "\n",
    "\n",
    "# add top layers\n",
    "out = base_model.output\n",
    "out = keras.layers.Flatten()(out)\n",
    "out = keras.layers.BatchNormalization()(out)\n",
    "out = keras.layers.Dense(256, activation='relu')(out)\n",
    "out = keras.layers.Dropout(0.3)(out)\n",
    "out = keras.layers.BatchNormalization()(out)\n",
    "out = keras.layers.Dense(128, activation='relu')(out)\n",
    "out = keras.layers.Dropout(0.3)(out)\n",
    "out = keras.layers.BatchNormalization()(out)\n",
    "out = keras.layers.Dense(64, activation='relu')(out)\n",
    "out = keras.layers.Dropout(0.3)(out)\n",
    "out = keras.layers.Dense(10, activation='softmax')(out)\n",
    "\n",
    "## freeze the base_model weights\n",
    "base_model.trainable = False\n",
    "\n",
    "# model compile\n",
    "model = keras.models.Model(inputs=inputs, outputs=out)\n",
    "\n",
    "model.compile(optimizer=optimizer,\n",
    "              loss='categorical_crossentropy',\n",
    "              metrics=['accuracy'])\n",
    "     "
   ]
  },
  {
   "cell_type": "code",
   "execution_count": null,
   "metadata": {
    "colab": {
     "base_uri": "https://localhost:8080/"
    },
    "id": "5j1IAYWWCBX5",
    "outputId": "7754ed03-58c7-44ee-89c8-75170585f89a"
   },
   "outputs": [],
   "source": [
    "model.summary()"
   ]
  },
  {
   "cell_type": "code",
   "execution_count": 6,
   "metadata": {
    "colab": {
     "base_uri": "https://localhost:8080/"
    },
    "id": "i7d6XC9sCAE7",
    "outputId": "2b47b9c8-818f-4f11-f76a-3a588566753a"
   },
   "outputs": [
    {
     "name": "stdout",
     "output_type": "stream",
     "text": [
      "Epoch 1/20\n",
      "391/391 [==============================] - 103s 235ms/step - loss: 0.6739 - accuracy: 0.7810 - val_loss: 0.3524 - val_accuracy: 0.8810\n",
      "Epoch 2/20\n",
      "391/391 [==============================] - 94s 242ms/step - loss: 0.4069 - accuracy: 0.8708 - val_loss: 0.3163 - val_accuracy: 0.8925\n",
      "Epoch 3/20\n",
      "391/391 [==============================] - 89s 227ms/step - loss: 0.3495 - accuracy: 0.8880 - val_loss: 0.3135 - val_accuracy: 0.8927\n",
      "Epoch 4/20\n",
      "391/391 [==============================] - 89s 227ms/step - loss: 0.3106 - accuracy: 0.8983 - val_loss: 0.3070 - val_accuracy: 0.8959\n",
      "Epoch 5/20\n",
      "391/391 [==============================] - 88s 226ms/step - loss: 0.2823 - accuracy: 0.9077 - val_loss: 0.3022 - val_accuracy: 0.9011\n",
      "Epoch 6/20\n",
      "391/391 [==============================] - 88s 225ms/step - loss: 0.2561 - accuracy: 0.9159 - val_loss: 0.3031 - val_accuracy: 0.9011\n",
      "Epoch 7/20\n",
      "391/391 [==============================] - 94s 242ms/step - loss: 0.2359 - accuracy: 0.9230 - val_loss: 0.2972 - val_accuracy: 0.9025\n",
      "Epoch 8/20\n",
      "391/391 [==============================] - 94s 241ms/step - loss: 0.2163 - accuracy: 0.9286 - val_loss: 0.3083 - val_accuracy: 0.9028\n",
      "Epoch 9/20\n",
      "391/391 [==============================] - 94s 240ms/step - loss: 0.1998 - accuracy: 0.9335 - val_loss: 0.3100 - val_accuracy: 0.9026\n",
      "Epoch 10/20\n",
      "391/391 [==============================] - 88s 225ms/step - loss: 0.1842 - accuracy: 0.9404 - val_loss: 0.3338 - val_accuracy: 0.8963\n",
      "Epoch 11/20\n",
      "391/391 [==============================] - 88s 224ms/step - loss: 0.1765 - accuracy: 0.9422 - val_loss: 0.3233 - val_accuracy: 0.9035\n",
      "Epoch 12/20\n",
      "391/391 [==============================] - ETA: 0s - loss: 0.1532 - accuracy: 0.9487Restoring model weights from the end of the best epoch: 7.\n",
      "391/391 [==============================] - 88s 225ms/step - loss: 0.1532 - accuracy: 0.9487 - val_loss: 0.3420 - val_accuracy: 0.9004\n",
      "Epoch 12: early stopping\n"
     ]
    }
   ],
   "source": [
    "# train\n",
    "history = model.fit(x=x_train,\n",
    "          y=y_train,\n",
    "          batch_size=128,\n",
    "          epochs=20,\n",
    "          callbacks=CALLBACKS,\n",
    "          validation_data=(x_test, y_test))"
   ]
  },
  {
   "cell_type": "code",
   "execution_count": 7,
   "metadata": {
    "id": "3Dgs_02vCSMA"
   },
   "outputs": [],
   "source": [
    "import matplotlib.pyplot as plt"
   ]
  },
  {
   "cell_type": "code",
   "execution_count": 8,
   "metadata": {
    "colab": {
     "base_uri": "https://localhost:8080/",
     "height": 265
    },
    "id": "9toktqjJGMHx",
    "outputId": "d74bffde-c826-455b-b659-102da183ea1c"
   },
   "outputs": [
    {
     "data": {
      "image/png": "[encoded data removed]",
      "text/plain": [
       "<Figure size 432x288 with 1 Axes>"
      ]
     },
     "metadata": {
      "needs_background": "light"
     },
     "output_type": "display_data"
    }
   ],
   "source": [
    "plt.plot(history.history['val_loss'], label='validation set loss')\n",
    "plt.plot(history.history['loss'], label='training set loss')\n",
    "plt.legend()\n",
    "plt.show()"
   ]
  },
  {
   "cell_type": "code",
   "execution_count": 9,
   "metadata": {
    "colab": {
     "base_uri": "https://localhost:8080/"
    },
    "id": "iRwBAhCJ8ctk",
    "outputId": "f9bedec1-e4ce-42a7-8a23-6250092cc59e"
   },
   "outputs": [
    {
     "name": "stdout",
     "output_type": "stream",
     "text": [
      "Drive already mounted at /content/gdrive; to attempt to forcibly remount, call drive.mount(\"/content/gdrive\", force_remount=True).\n"
     ]
    }
   ],
   "source": [
    "from google.colab import drive\n",
    "drive.mount('/content/gdrive')"
   ]
  },
  {
   "cell_type": "code",
   "execution_count": 10,
   "metadata": {
    "id": "Kn52pKRD9ryV"
   },
   "outputs": [],
   "source": [
    "## save the model\n",
    "!cp cifar10.h5 /content/gdrive/MyDrive/ec_final_project/cifar10_model_90%_val_accuracy.h5"
   ]
  },
  {
   "cell_type": "markdown",
   "metadata": {
    "id": "DqR1HAWKHn-W"
   },
   "source": [
    "## Fine Tuning"
   ]
  },
  {
   "cell_type": "code",
   "execution_count": 11,
   "metadata": {
    "colab": {
     "base_uri": "https://localhost:8080/"
    },
    "id": "jlwYJM4XHIZz",
    "outputId": "cd0a2dea-3964-4b74-a495-f7c6cd799a31"
   },
   "outputs": [
    {
     "name": "stdout",
     "output_type": "stream",
     "text": [
      "Epoch 1/10\n",
      "391/391 [==============================] - 320s 774ms/step - loss: 0.4715 - accuracy: 0.8573 - val_loss: 0.2835 - val_accuracy: 0.9114\n",
      "Epoch 2/10\n",
      "391/391 [==============================] - 298s 762ms/step - loss: 0.2577 - accuracy: 0.9180 - val_loss: 0.2372 - val_accuracy: 0.9234\n",
      "Epoch 3/10\n",
      "391/391 [==============================] - 298s 762ms/step - loss: 0.1896 - accuracy: 0.9395 - val_loss: 0.2023 - val_accuracy: 0.9346\n",
      "Epoch 4/10\n",
      "391/391 [==============================] - 298s 762ms/step - loss: 0.1508 - accuracy: 0.9529 - val_loss: 0.1892 - val_accuracy: 0.9379\n",
      "Epoch 5/10\n",
      "391/391 [==============================] - 298s 761ms/step - loss: 0.1167 - accuracy: 0.9641 - val_loss: 0.1762 - val_accuracy: 0.9416\n",
      "Epoch 6/10\n",
      "391/391 [==============================] - 297s 761ms/step - loss: 0.0963 - accuracy: 0.9715 - val_loss: 0.1695 - val_accuracy: 0.9443\n",
      "Epoch 7/10\n",
      "391/391 [==============================] - 297s 761ms/step - loss: 0.0768 - accuracy: 0.9781 - val_loss: 0.1659 - val_accuracy: 0.9453\n",
      "Epoch 8/10\n",
      "391/391 [==============================] - 297s 760ms/step - loss: 0.0645 - accuracy: 0.9825 - val_loss: 0.1632 - val_accuracy: 0.9477\n",
      "Epoch 9/10\n",
      "391/391 [==============================] - 297s 760ms/step - loss: 0.0539 - accuracy: 0.9858 - val_loss: 0.1611 - val_accuracy: 0.9490\n",
      "Epoch 10/10\n",
      "391/391 [==============================] - 297s 759ms/step - loss: 0.0436 - accuracy: 0.9900 - val_loss: 0.1614 - val_accuracy: 0.9494\n"
     ]
    }
   ],
   "source": [
    "## unfreeze the base_model\n",
    "base_model.trainable = True\n",
    "\n",
    "## start fine tuning with a very slow learning rate\n",
    "model.compile(optimizer=keras.optimizers.Adam(1e-5),\n",
    "              loss='categorical_crossentropy',\n",
    "              metrics=['accuracy'])\n",
    "\n",
    "# train\n",
    "history_finetune = model.fit(x=x_train,\n",
    "          y=y_train,\n",
    "          batch_size=128,\n",
    "          epochs=10,\n",
    "          callbacks=CALLBACKS,\n",
    "          validation_data=(x_test, y_test))"
   ]
  },
  {
   "cell_type": "code",
   "execution_count": 12,
   "metadata": {
    "colab": {
     "base_uri": "https://localhost:8080/",
     "height": 279
    },
    "id": "3nvcUVe3TKzF",
    "outputId": "7dee594d-7764-454f-a659-63c004781fbf"
   },
   "outputs": [
    {
     "data": {
      "image/png": "[encoded data removed]",
      "text/plain": [
       "<Figure size 432x288 with 1 Axes>"
      ]
     },
     "metadata": {
      "needs_background": "light"
     },
     "output_type": "display_data"
    }
   ],
   "source": [
    "plt.plot(history_finetune.history['val_loss'], label='validation set loss')\n",
    "plt.plot(history_finetune.history['loss'], label='training set loss')\n",
    "plt.legend()\n",
    "plt.xlabel('epochs')\n",
    "plt.ylabel('loss')\n",
    "plt.show()"
   ]
  },
  {
   "cell_type": "code",
   "execution_count": 15,
   "metadata": {
    "id": "Go6mI5LsPgQU"
   },
   "outputs": [],
   "source": [
    "!cp cifar10.h5 /content/gdrive/MyDrive/ec_final_project/cifar10_model_finetuned_95%_val_accuracy.h5"
   ]
  },
  {
   "cell_type": "code",
   "execution_count": null,
   "metadata": {
    "id": "zQQONf8BbeCp"
   },
   "outputs": [],
   "source": []
  }
 ],
 "metadata": {
  "accelerator": "GPU",
  "colab": {
   "provenance": []
  },
  "gpuClass": "standard",
  "kernelspec": {
   "display_name": "Python 3 (ipykernel)",
   "language": "python",
   "name": "python3"
  },
  "language_info": {
   "codemirror_mode": {
    "name": "ipython",
    "version": 3
   },
   "file_extension": ".py",
   "mimetype": "text/x-python",
   "name": "python",
   "nbconvert_exporter": "python",
   "pygments_lexer": "ipython3",
   "version": "3.10.6"
  }
 },
 "nbformat": 4,
 "nbformat_minor": 1
}
