{
 "cells": [
  {
   "cell_type": "code",
   "execution_count": 1,
   "metadata": {},
   "outputs": [],
   "source": [
    "from fitness import fitness as fitness_obj\n",
    "import numpy as np\n",
    "from pymoo.algorithms.moo.nsga2 import NSGA2\n",
    "from pymoo.operators.crossover.sbx import SBX\n",
    "from pymoo.operators.mutation.pm import PM\n",
    "from pymoo.operators.sampling.rnd import FloatRandomSampling\n",
    "from pymoo.core.problem import ElementwiseProblem\n",
    "from pymoo.termination import get_termination\n",
    "from pymoo.optimize import minimize\n",
    "from tensorflow import keras\n",
    "from inner_genetic_algorithm import inner_algorithm"
   ]
  },
  {
   "cell_type": "code",
   "execution_count": 2,
   "metadata": {},
   "outputs": [],
   "source": [
    "class MyProblem(ElementwiseProblem):\n",
    "\n",
    "    def __init__(self, tf_model):\n",
    "        n_variables = 5\n",
    "        super().__init__(\n",
    "            n_var= n_variables, \n",
    "            n_obj=2, \n",
    "            n_ieq_constr=0, \n",
    "            xl= np.zeros(n_variables), \n",
    "            xu=np.ones(n_variables)\n",
    "        )\n",
    "        self.tf_model = tf_model\n",
    "          \n",
    "\n",
    "    def _evaluate(self, x, out, *args, **kwargs):\n",
    "        algorithm = inner_algorithm(self.tf_model, x)\n",
    "        X_res, F_res = algorithm.start()\n",
    "\n",
    "        with open('results/filters_with_param_X.txt', 'a+') as file:\n",
    "            np.savetxt(file, X_res)\n",
    "            file.write('\\n')\n",
    "\n",
    "        with open('results/filters_with_param_F.txt', 'a+') as file:\n",
    "            np.savetxt(file, F_res)\n",
    "            file.write('\\n')\n",
    "        \n",
    "        out[\"F\"] = F_res[0]\n"
   ]
  },
  {
   "cell_type": "code",
   "execution_count": 4,
   "metadata": {},
   "outputs": [],
   "source": [
    "model = keras.models.load_model('../cifar10_model_90%val_accuracy.h5')\n",
    "problem = MyProblem(model)\n",
    "\n",
    "algorithm = NSGA2(\n",
    "    pop_size=10,\n",
    "    n_offsprings=10,\n",
    "    sampling=FloatRandomSampling(),\n",
    "    crossover=SBX(prob=0.9, eta=15),\n",
    "    mutation=PM(prob=0.5 ,eta=20),\n",
    "    eliminate_duplicates=True\n",
    ")\n",
    "termination = get_termination(\"n_gen\", 5)"
   ]
  },
  {
   "cell_type": "code",
   "execution_count": 5,
   "metadata": {},
   "outputs": [
    {
     "name": "stdout",
     "output_type": "stream",
     "text": [
      "==========================================================\n",
      "n_gen  |  n_eval  | n_nds  |      eps      |   indicator  \n",
      "==========================================================\n",
      "     1 |       10 |      3 |             - |             -\n",
      "     2 |       20 |      7 |  0.000000E+00 |             f\n",
      "     3 |       30 |      8 |  0.000000E+00 |             f\n",
      "     4 |       40 |      8 |  0.2000000000 |         ideal\n",
      "     5 |       50 |     10 |  0.000000E+00 |             f\n"
     ]
    }
   ],
   "source": [
    "res = minimize(problem,\n",
    "               algorithm,\n",
    "               termination,\n",
    "               seed=1,\n",
    "               save_history=False,\n",
    "               verbose=True)\n"
   ]
  },
  {
   "cell_type": "code",
   "execution_count": 6,
   "metadata": {},
   "outputs": [],
   "source": [
    "with open('results/final_results_X.txt', 'w') as file:\n",
    "    np.savetxt(file, res.X)\n",
    "with open('results/final_results_F.txt', 'w') as file:\n",
    "    np.savetxt(file, res.F)\n"
   ]
  },
  {
   "cell_type": "code",
   "execution_count": 7,
   "metadata": {},
   "outputs": [
    {
     "data": {
      "text/plain": [
       "array([[0.41919451, 0.68780675, 0.28091716, 0.87811744, 0.02738759],\n",
       "       [0.09834683, 0.42110763, 0.95788953, 0.53316528, 0.69187711],\n",
       "       [0.09871304, 0.42110763, 0.95788953, 0.53316528, 0.7499139 ],\n",
       "       [0.09871838, 0.42641878, 0.96234427, 0.57110054, 0.75013624],\n",
       "       [0.09834015, 0.38686835, 0.96768084, 0.57213216, 0.69210753],\n",
       "       [0.09871304, 0.42110763, 0.95784977, 0.6086882 , 0.74992198],\n",
       "       [0.09871838, 0.42641878, 0.9623045 , 0.57213216, 0.75014431],\n",
       "       [0.09870636, 0.42618278, 0.96236565, 0.57213216, 0.75014431],\n",
       "       [0.09834683, 0.40466687, 0.95788953, 0.53316528, 0.69187711],\n",
       "       [0.09834015, 0.42618278, 0.96236565, 0.57213216, 0.69210753]])"
      ]
     },
     "execution_count": 7,
     "metadata": {},
     "output_type": "execute_result"
    }
   ],
   "source": [
    "res.X"
   ]
  },
  {
   "cell_type": "code",
   "execution_count": 8,
   "metadata": {},
   "outputs": [
    {
     "data": {
      "text/plain": [
       "array([[0.25, 0.35],\n",
       "       [0.5 , 0.25],\n",
       "       [0.5 , 0.25],\n",
       "       [0.5 , 0.25],\n",
       "       [0.5 , 0.25],\n",
       "       [0.5 , 0.25],\n",
       "       [0.5 , 0.25],\n",
       "       [0.5 , 0.25],\n",
       "       [0.5 , 0.25],\n",
       "       [0.5 , 0.25]])"
      ]
     },
     "execution_count": 8,
     "metadata": {},
     "output_type": "execute_result"
    }
   ],
   "source": [
    "res.F"
   ]
  }
 ],
 "metadata": {
  "kernelspec": {
   "display_name": "ec-final-proj",
   "language": "python",
   "name": "python3"
  },
  "language_info": {
   "codemirror_mode": {
    "name": "ipython",
    "version": 3
   },
   "file_extension": ".py",
   "mimetype": "text/x-python",
   "name": "python",
   "nbconvert_exporter": "python",
   "pygments_lexer": "ipython3",
   "version": "3.9.13"
  },
  "orig_nbformat": 4,
  "vscode": {
   "interpreter": {
    "hash": "215facd2e95ccb650e06b7a2842db4eee9a387c938d38e1684b1d88f39c4b64e"
   }
  }
 },
 "nbformat": 4,
 "nbformat_minor": 2
}
