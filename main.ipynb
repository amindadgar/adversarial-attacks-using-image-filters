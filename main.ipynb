{
 "cells": [
  {
   "cell_type": "code",
   "execution_count": 41,
   "metadata": {},
   "outputs": [],
   "source": [
    "from fitness import fitness as fitness_obj\n",
    "import numpy as np\n",
    "from pymoo.algorithms.moo.nsga2 import NSGA2\n",
    "from pymoo.operators.crossover.sbx import SBX\n",
    "from pymoo.operators.mutation.pm import PM\n",
    "from pymoo.operators.sampling.rnd import FloatRandomSampling\n",
    "from pymoo.core.problem import ElementwiseProblem\n",
    "from pymoo.termination import get_termination\n",
    "from pymoo.optimize import minimize\n",
    "from tensorflow import keras\n",
    "from inner_genetic_algorithm import inner_algorithm\n",
    "from filters.filters import img_filters\n",
    "from tensorflow import keras\n",
    "import matplotlib.pyplot as plt"
   ]
  },
  {
   "cell_type": "code",
   "execution_count": 2,
   "metadata": {},
   "outputs": [],
   "source": [
    "class MyProblem(ElementwiseProblem):\n",
    "\n",
    "    def __init__(self, tf_model):\n",
    "        n_variables = 5\n",
    "        super().__init__(\n",
    "            n_var= n_variables, \n",
    "            n_obj=2, \n",
    "            n_ieq_constr=0, \n",
    "            xl= np.zeros(n_variables), \n",
    "            xu=np.ones(n_variables)\n",
    "        )\n",
    "        self.tf_model = tf_model\n",
    "          \n",
    "\n",
    "    def _evaluate(self, x, out, *args, **kwargs):\n",
    "        algorithm = inner_algorithm(self.tf_model, x)\n",
    "        X_res, F_res = algorithm.start()\n",
    "\n",
    "        with open('results/filters_with_param_X.txt', 'a+') as file:\n",
    "            np.savetxt(file, X_res)\n",
    "            file.write('\\n')\n",
    "\n",
    "        with open('results/filters_with_param_F.txt', 'a+') as file:\n",
    "            np.savetxt(file, F_res)\n",
    "            file.write('\\n')\n",
    "        \n",
    "        out[\"F\"] = F_res[0]\n"
   ]
  },
  {
   "cell_type": "code",
   "execution_count": 4,
   "metadata": {},
   "outputs": [],
   "source": [
    "model = keras.models.load_model('../cifar10_model_90%val_accuracy.h5')\n",
    "problem = MyProblem(model)\n",
    "\n",
    "algorithm = NSGA2(\n",
    "    pop_size=10,\n",
    "    n_offsprings=10,\n",
    "    sampling=FloatRandomSampling(),\n",
    "    crossover=SBX(prob=0.9, eta=15),\n",
    "    mutation=PM(prob=0.5 ,eta=20),\n",
    "    eliminate_duplicates=True\n",
    ")\n",
    "termination = get_termination(\"n_gen\", 5)"
   ]
  },
  {
   "cell_type": "code",
   "execution_count": 5,
   "metadata": {},
   "outputs": [
    {
     "name": "stdout",
     "output_type": "stream",
     "text": [
      "==========================================================\n",
      "n_gen  |  n_eval  | n_nds  |      eps      |   indicator  \n",
      "==========================================================\n",
      "     1 |       10 |      3 |             - |             -\n",
      "     2 |       20 |      7 |  0.000000E+00 |             f\n",
      "     3 |       30 |      8 |  0.000000E+00 |             f\n",
      "     4 |       40 |      8 |  0.2000000000 |         ideal\n",
      "     5 |       50 |     10 |  0.000000E+00 |             f\n"
     ]
    }
   ],
   "source": [
    "res = minimize(problem,\n",
    "               algorithm,\n",
    "               termination,\n",
    "               seed=1,\n",
    "               save_history=False,\n",
    "               verbose=True)\n"
   ]
  },
  {
   "cell_type": "code",
   "execution_count": 6,
   "metadata": {},
   "outputs": [],
   "source": [
    "with open('results/final_results_X.txt', 'w') as file:\n",
    "    np.savetxt(file, res.X)\n",
    "with open('results/final_results_F.txt', 'w') as file:\n",
    "    np.savetxt(file, res.F)\n"
   ]
  },
  {
   "cell_type": "code",
   "execution_count": 7,
   "metadata": {},
   "outputs": [
    {
     "data": {
      "text/plain": [
       "array([[0.41919451, 0.68780675, 0.28091716, 0.87811744, 0.02738759],\n",
       "       [0.09834683, 0.42110763, 0.95788953, 0.53316528, 0.69187711],\n",
       "       [0.09871304, 0.42110763, 0.95788953, 0.53316528, 0.7499139 ],\n",
       "       [0.09871838, 0.42641878, 0.96234427, 0.57110054, 0.75013624],\n",
       "       [0.09834015, 0.38686835, 0.96768084, 0.57213216, 0.69210753],\n",
       "       [0.09871304, 0.42110763, 0.95784977, 0.6086882 , 0.74992198],\n",
       "       [0.09871838, 0.42641878, 0.9623045 , 0.57213216, 0.75014431],\n",
       "       [0.09870636, 0.42618278, 0.96236565, 0.57213216, 0.75014431],\n",
       "       [0.09834683, 0.40466687, 0.95788953, 0.53316528, 0.69187711],\n",
       "       [0.09834015, 0.42618278, 0.96236565, 0.57213216, 0.69210753]])"
      ]
     },
     "execution_count": 7,
     "metadata": {},
     "output_type": "execute_result"
    }
   ],
   "source": [
    "res.X"
   ]
  },
  {
   "cell_type": "code",
   "execution_count": 8,
   "metadata": {},
   "outputs": [
    {
     "data": {
      "text/plain": [
       "array([[0.25, 0.35],\n",
       "       [0.5 , 0.25],\n",
       "       [0.5 , 0.25],\n",
       "       [0.5 , 0.25],\n",
       "       [0.5 , 0.25],\n",
       "       [0.5 , 0.25],\n",
       "       [0.5 , 0.25],\n",
       "       [0.5 , 0.25],\n",
       "       [0.5 , 0.25],\n",
       "       [0.5 , 0.25]])"
      ]
     },
     "execution_count": 8,
     "metadata": {},
     "output_type": "execute_result"
    }
   ],
   "source": [
    "res.F"
   ]
  },
  {
   "cell_type": "code",
   "execution_count": 83,
   "metadata": {},
   "outputs": [],
   "source": [
    "## chromosomes\n",
    "string_X = None\n",
    "## fitnesses\n",
    "string_F = None\n",
    "with open('results/filters_with_param_X.txt', 'r') as file:\n",
    "    string_X = file.read()\n",
    "\n",
    "with open('results/filters_with_param_F.txt', 'r') as file:\n",
    "    string_F = file.read()"
   ]
  },
  {
   "cell_type": "code",
   "execution_count": 98,
   "metadata": {},
   "outputs": [],
   "source": [
    "chromosomes_filter = np.fromstring(string_X.split('\\n')[-3], sep=' ')\n",
    "chromosome_fitness = np.fromstring(string_F.split('\\n')[-3], sep=' ')"
   ]
  },
  {
   "cell_type": "code",
   "execution_count": 107,
   "metadata": {},
   "outputs": [],
   "source": [
    "def get_filter_function(filter_gene, filter_alpha, filter_strength):\n",
    "    \"\"\"\n",
    "    get the filter function\n",
    "    \"\"\"\n",
    "    ## to choose the filter\n",
    "    # if 0 < filter_gene <= 0.25:\n",
    "    if filter_gene == 0 :\n",
    "        filter_name = 'kelvin'\n",
    "    # elif 0.25 < filter_gene <= 0.5:\n",
    "    elif filter_gene == 1:\n",
    "        filter_name = 'clarendon'\n",
    "    # elif 0.5 < filter_gene <= 0.75:\n",
    "    elif filter_gene == 2:\n",
    "        filter_name = 'moon'\n",
    "    # elif 0.75 < filter_gene <= 1:\n",
    "    elif filter_gene == 3:\n",
    "        filter_name = 'sharpening'\n",
    "    else:\n",
    "        raise ValueError(f'filter chromosome value should be integer values between 0 to 3, entered value: {filter_gene}')\n",
    "    \n",
    "    print(f'Filter name: {filter_name}')\n",
    "    \n",
    "    filter_function = img_filters(filter_alpha, filter_strength, filter_name )\n",
    "    return filter_function"
   ]
  },
  {
   "cell_type": "code",
   "execution_count": 108,
   "metadata": {},
   "outputs": [
    {
     "name": "stdout",
     "output_type": "stream",
     "text": [
      "Filter name: moon\n",
      "Filter name: kelvin\n",
      "Filter name: clarendon\n",
      "Filter name: sharpening\n"
     ]
    }
   ],
   "source": [
    "## the index of parameters of each filter\n",
    "# parameter_index = {\n",
    "#     0: [5, 6],\n",
    "#     1: [7, 8],\n",
    "#     2: [9, 10],\n",
    "#     3: [11, 12],\n",
    "#     4: [13, 14]\n",
    "# }\n",
    "\n",
    "parameter_index = {\n",
    "    0: [4, 5],\n",
    "    1: [6, 7],\n",
    "    2: [8, 9],\n",
    "    3: [10, 11],\n",
    "    # 4: [13, 14]\n",
    "}\n",
    "\n",
    "functions_arr = []\n",
    "for i in range(4):\n",
    "    filter_gene = chromosomes_filter[i]\n",
    "    filter_alpha_gene = chromosomes_filter[parameter_index[i][0]]\n",
    "    filter_strength_gene = chromosomes_filter[parameter_index[i][1]]\n",
    "\n",
    "    filter_function = get_filter_function(filter_gene, filter_alpha_gene, filter_strength_gene)\n",
    "    functions_arr.append(filter_function)"
   ]
  },
  {
   "cell_type": "code",
   "execution_count": 109,
   "metadata": {},
   "outputs": [],
   "source": [
    "def apply_multiple_filters(filter_functions, images_batch):\n",
    "    \"\"\"\n",
    "    apply multiple filters on one image\n",
    "    filter_functions are the multiple filters function extracted from a chromosome \n",
    "\n",
    "    returns the manipulated images (filtered ones)\n",
    "    \"\"\"\n",
    "    ## filtered images are saved in the array\n",
    "    manipulated_images_arr = []\n",
    "\n",
    "    ## for images\n",
    "    for image in images_batch:\n",
    "        manipulated_image = np.copy(image)\n",
    "\n",
    "        ## Apply multiple filters to the image\n",
    "        for filter_func in filter_functions:\n",
    "            manipulated_image = filter_func.apply(manipulated_image)\n",
    "        \n",
    "        manipulated_images_arr.append(manipulated_image)\n",
    "    ## convert back to numpy array\n",
    "    manipulated_images_arr = np.array(manipulated_images_arr)\n",
    "    \n",
    "    return manipulated_images_arr"
   ]
  },
  {
   "cell_type": "code",
   "execution_count": 110,
   "metadata": {},
   "outputs": [],
   "source": [
    "(x_train, _), (_, _) = keras.datasets.cifar10.load_data()"
   ]
  },
  {
   "cell_type": "code",
   "execution_count": 115,
   "metadata": {},
   "outputs": [],
   "source": [
    "images_manipulated = apply_multiple_filters(functions_arr, x_train[:20])"
   ]
  },
  {
   "cell_type": "code",
   "execution_count": 116,
   "metadata": {},
   "outputs": [
    {
     "data": {
      "image/png": "[encoded data removed]",
      "text/plain": [
       "<Figure size 300x300 with 2 Axes>"
      ]
     },
     "metadata": {},
     "output_type": "display_data"
    }
   ],
   "source": [
    "index_image = 15\n",
    "\n",
    "plt.figure(figsize=(3, 3))\n",
    "plt.subplot(121)\n",
    "plt.imshow(x_train[ index_image ])\n",
    "plt.subplot(122)\n",
    "plt.imshow(images_manipulated[ index_image ])\n",
    "plt.show()"
   ]
  },
  {
   "cell_type": "code",
   "execution_count": null,
   "metadata": {},
   "outputs": [],
   "source": [
    "## TODO: Find a function rather than sharpening\n",
    "## because it can destort the image as can be seen above "
   ]
  }
 ],
 "metadata": {
  "kernelspec": {
   "display_name": "ec-final-proj",
   "language": "python",
   "name": "python3"
  },
  "language_info": {
   "codemirror_mode": {
    "name": "ipython",
    "version": 3
   },
   "file_extension": ".py",
   "mimetype": "text/x-python",
   "name": "python",
   "nbconvert_exporter": "python",
   "pygments_lexer": "ipython3",
   "version": "3.9.13"
  },
  "orig_nbformat": 4,
  "vscode": {
   "interpreter": {
    "hash": "215facd2e95ccb650e06b7a2842db4eee9a387c938d38e1684b1d88f39c4b64e"
   }
  }
 },
 "nbformat": 4,
 "nbformat_minor": 2
}
